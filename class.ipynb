{
 "cells": [
  {
   "cell_type": "code",
   "execution_count": 2,
   "metadata": {},
   "outputs": [
    {
     "name": "stdout",
     "output_type": "stream",
     "text": [
      "Null\n",
      "чсмитьб\n"
     ]
    }
   ],
   "source": [
    "class qw:\n",
    "    def __init__(self):\n",
    "        self.txt = \"Null\"\n",
    "    def get(self):\n",
    "        self.txt = input()\n",
    "    def pr(self):\n",
    "        print(self.txt)\n",
    "\n",
    "a = qw()\n",
    "a.pr()\n",
    "a.get()\n",
    "a.pr()"
   ]
  },
  {
   "cell_type": "code",
   "execution_count": null,
   "metadata": {},
   "outputs": [],
   "source": [
    "class Shape:\n",
    "    def __init__(self):\n",
    "        pass\n",
    "\n",
    "    def area(self):\n",
    "        return 0\n",
    "class Square(Shape):\n",
    "    def __init__(self,length):\n",
    "        self.length = length\n",
    "\n",
    "    def area(self):\n",
    "        return self.length **2\n",
    "\n",
    "square_obj = Square(float(input(\"Enter the length of the square: \")))\n",
    "print(f\"Area of Square: {square_obj.area()}\")\n",
    "        "
   ]
  },
  {
   "cell_type": "code",
   "execution_count": null,
   "metadata": {},
   "outputs": [],
   "source": [
    "class Shape:\n",
    "    def __init__ (self):\n",
    "        pass\n",
    "    def area(self):\n",
    "        return 0\n",
    "class Rectangle(Shape):\n",
    "    def __init__(self):\n",
    "        self.length = float(input(\"length: \"))\n",
    "        self.width = float(input(\"width: \"))\n",
    "    def area(self):\n",
    "        return self.length * self.width\n",
    "rectangle_obj = Rectangle()\n",
    "print(f\"Area of Rectangle: {rectangle_obj.area()}\")"
   ]
  },
  {
   "cell_type": "code",
   "execution_count": 11,
   "metadata": {},
   "outputs": [],
   "source": [
    "def Mysqrt(a):\n",
    "    if a < 0:\n",
    "        return \"Error\"\n",
    "    if a==0:\n",
    "        return 0\n",
    "    if a < 1:\n",
    "        l = a\n",
    "        r = 1\n",
    "    else:\n",
    "        l = 1\n",
    "        r = a\n",
    "    l=1\n",
    "    r=a\n",
    "    for i in range (100):\n",
    "        m = (l+r)/2\n",
    "        if (m*m<a):\n",
    "            l=m\n",
    "        elif (m*m>a):\n",
    "            r=m\n",
    "    return m\n"
   ]
  },
  {
   "cell_type": "code",
   "execution_count": 5,
   "metadata": {},
   "outputs": [
    {
     "name": "stdout",
     "output_type": "stream",
     "text": [
      "( 5 : 5 )\n",
      "( 7 : 7 )\n",
      "2.82842712474619\n"
     ]
    }
   ],
   "source": [
    "class p:\n",
    "    def __init__(self, x , y):\n",
    "        self.x=x\n",
    "        self.y=y\n",
    "        self.x1=x\n",
    "        self.y1=y\n",
    "    def show(self):\n",
    "        print(\"(\",self.x,\":\",self.y,\")\")\n",
    "    def move(self,a,b):\n",
    "        self.a=a\n",
    "        self.b=b\n",
    "        self.x+=a\n",
    "        self.y+=b\n",
    "    def dist(self):\n",
    "        print(Mysqrt((self.x-self.x1)**2 + (self.y-self.y1)**2))\n",
    "\n",
    "first = p(int(input()),int(input()))\n",
    "first.show()\n",
    "first.move(int(input(\"move x: \")),int(input(\"move y:\")))\n",
    "first.show()\n",
    "first.dist()\n",
    "\n"
   ]
  },
  {
   "cell_type": "code",
   "execution_count": null,
   "metadata": {},
   "outputs": [
    {
     "name": "stdout",
     "output_type": "stream",
     "text": [
      "Deposit of  5.0 accepted. New balance:  45.0\n",
      "Insufficient funds. You can get only:  45.0\n"
     ]
    }
   ],
   "source": [
    "class Account:\n",
    "    def __init__(self, owner, balance):\n",
    "        self.owner = owner\n",
    "        self.balance = balance\n",
    "    \n",
    "    def deposit(self, amount):\n",
    "        self.balance += amount\n",
    "        print ( \"Deposit of \",amount, \"accepted. New balance: \",self.balance)\n",
    "    \n",
    "    def withdraw(self, amount):\n",
    "        if amount <= self.balance:\n",
    "            self.balance -= amount\n",
    "            print(\"Withdrawal of \",amount,\" accepted. New balance: \",self.balance)\n",
    "        else:\n",
    "            print(\"Insufficient funds. You can get only: \",self.balance)\n",
    "account = Account(input(\"Owner is: \"), abs(float(input(\"The balance is:\"))))\n",
    "account.deposit(float(input(\"Write the amount you want to deposit: \")))\n",
    "account.withdraw(float(input(\"Write the amount you want to withdraw: \")))"
   ]
  },
  {
   "cell_type": "code",
   "execution_count": 15,
   "metadata": {},
   "outputs": [
    {
     "name": "stdout",
     "output_type": "stream",
     "text": [
      "[2, 3, 5, 7, 11, 13, 17, 19]\n"
     ]
    }
   ],
   "source": [
    "class Pnum:\n",
    "    def __init__(self):\n",
    "        self.num=[]\n",
    "    def get(self,a):\n",
    "        self.num.extend(a)\n",
    "    def isprime(self,b):\n",
    "        if b < 2:\n",
    "            return False\n",
    "        for i in range (2,int(Mysqrt(b))+1):\n",
    "            if b % i == 0:\n",
    "                return False\n",
    "        return True\n",
    "    def filt(self):\n",
    "        primenums = list(filter(lambda x: self.isprime(x),self.num))\n",
    "        return primenums\n",
    "    \n",
    "a = Pnum()\n",
    "a.get([1,2,3,4,5,6,7,8,9,10,11,12,13,14,15,16,17,18,19,20])\n",
    "print(a.filt())"
   ]
  }
 ],
 "metadata": {
  "kernelspec": {
   "display_name": "Python 3",
   "language": "python",
   "name": "python3"
  },
  "language_info": {
   "codemirror_mode": {
    "name": "ipython",
    "version": 3
   },
   "file_extension": ".py",
   "mimetype": "text/x-python",
   "name": "python",
   "nbconvert_exporter": "python",
   "pygments_lexer": "ipython3",
   "version": "3.12.9"
  }
 },
 "nbformat": 4,
 "nbformat_minor": 2
}
