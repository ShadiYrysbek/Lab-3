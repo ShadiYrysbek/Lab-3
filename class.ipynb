{
 "cells": [
  {
   "cell_type": "code",
   "execution_count": 2,
   "metadata": {},
   "outputs": [
    {
     "name": "stdout",
     "output_type": "stream",
     "text": [
      "Null\n",
      "чсмитьб\n"
     ]
    }
   ],
   "source": [
    "class qw:\n",
    "    def __init__(self):\n",
    "        self.txt = \"Null\"\n",
    "    def get(self):\n",
    "        self.txt = input()\n",
    "    def pr(self):\n",
    "        print(self.txt)\n",
    "\n",
    "a = qw()\n",
    "a.pr()\n",
    "a.get()\n",
    "a.pr()"
   ]
  },
  {
   "cell_type": "code",
   "execution_count": null,
   "metadata": {},
   "outputs": [],
   "source": [
    "class quadrangle:\n",
    "    def __init__(self):\n",
    "        self.type = \"\"\n",
    "        self.a\n",
    "        self.b\n",
    "        self.c\n",
    "        self.d\n",
    "    def getType(self):\n",
    "        self.type = input()\n",
    "    def area(self):\n",
    "        if self.type = \n",
    "    \n",
    "        "
   ]
  }
 ],
 "metadata": {
  "kernelspec": {
   "display_name": "Python 3",
   "language": "python",
   "name": "python3"
  },
  "language_info": {
   "codemirror_mode": {
    "name": "ipython",
    "version": 3
   },
   "file_extension": ".py",
   "mimetype": "text/x-python",
   "name": "python",
   "nbconvert_exporter": "python",
   "pygments_lexer": "ipython3",
   "version": "3.12.8"
  }
 },
 "nbformat": 4,
 "nbformat_minor": 2
}
