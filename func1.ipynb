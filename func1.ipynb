{
 "cells": [
  {
   "cell_type": "code",
   "execution_count": 2,
   "metadata": {},
   "outputs": [
    {
     "name": "stdout",
     "output_type": "stream",
     "text": [
      "141.7476155\n"
     ]
    }
   ],
   "source": [
    "def conv_gr_to_ounces(gr):\n",
    "    return 28.3495231 * gr\n",
    "a = int(input())\n",
    "print(conv_gr_to_ounces(a))\n"
   ]
  },
  {
   "cell_type": "code",
   "execution_count": 1,
   "metadata": {},
   "outputs": [
    {
     "name": "stdout",
     "output_type": "stream",
     "text": [
      "12.222222222222223\n"
     ]
    }
   ],
   "source": [
    "def conv_F_to_C(F):\n",
    "    return  (5 / 9) * (F - 32)\n",
    "a = int(input())\n",
    "print(conv_F_to_C(a))    "
   ]
  },
  {
   "cell_type": "code",
   "execution_count": 10,
   "metadata": {},
   "outputs": [
    {
     "name": "stdout",
     "output_type": "stream",
     "text": [
      "chickens: 23\n",
      "rabbits: 12\n"
     ]
    }
   ],
   "source": [
    "def qwe(head,leg):\n",
    "    if leg%2!=0 or leg//2<head or head*4<leg:\n",
    "        print (\"Error\")\n",
    "        return \n",
    "    rabbits = (leg - 2 * head) // 2\n",
    "    chickens = head - rabbits\n",
    "    print( \"chickens:\",chickens)\n",
    "    print(\"rabbits:\",rabbits)\n",
    "(qwe(35,94))\n",
    "    \n",
    "\n"
   ]
  },
  {
   "cell_type": "code",
   "execution_count": 1,
   "metadata": {},
   "outputs": [],
   "source": [
    "def Mysqrt(a):\n",
    "    if a < 0:\n",
    "        return \"Error\"\n",
    "    if a==0:\n",
    "        return 0\n",
    "    if a < 1:\n",
    "        l = a\n",
    "        r = 1\n",
    "    else:\n",
    "        l = 1\n",
    "        r = a\n",
    "    l=1\n",
    "    r=a\n",
    "    for i in range (100):\n",
    "        m = (l+r)/2\n",
    "        if (m*m<a):\n",
    "            l=m\n",
    "        elif (m*m>a):\n",
    "            r=m\n",
    "    return m\n"
   ]
  },
  {
   "cell_type": "code",
   "execution_count": 2,
   "metadata": {},
   "outputs": [],
   "source": [
    "def is_prime(a):\n",
    "    if a < 2:\n",
    "        return False\n",
    "    for i in range (2,int(Mysqrt(a)+1)):\n",
    "        if a%i==0:\n",
    "            return False\n",
    "    return True"
   ]
  },
  {
   "cell_type": "code",
   "execution_count": 3,
   "metadata": {},
   "outputs": [],
   "source": [
    "def filter_prime(a):\n",
    "    return list(filter(is_prime,a))"
   ]
  },
  {
   "cell_type": "code",
   "execution_count": 4,
   "metadata": {},
   "outputs": [
    {
     "name": "stdout",
     "output_type": "stream",
     "text": [
      "Простые числа: [5, 5]\n"
     ]
    }
   ],
   "source": [
    "numbers = list(map(int, input(\"Введите числа через пробел: \").split()))\n",
    "print(\"Простые числа:\", filter_prime(numbers))"
   ]
  },
  {
   "cell_type": "code",
   "execution_count": 22,
   "metadata": {},
   "outputs": [
    {
     "name": "stdout",
     "output_type": "stream",
     "text": [
      "['hjk', 'hkj', 'jhk', 'jkh', 'khj', 'kjh']\n"
     ]
    }
   ],
   "source": [
    "from itertools import permutations\n",
    "\n",
    "def all_permutations(s):\n",
    "    perms = [\"\".join(p) for p in permutations(s)]\n",
    "    return perms\n",
    "\n",
    "\n",
    "s = input()\n",
    "print(all_permutations(s))"
   ]
  },
  {
   "cell_type": "code",
   "execution_count": 26,
   "metadata": {},
   "outputs": [
    {
     "name": "stdout",
     "output_type": "stream",
     "text": [
      "ydaer era eW\n"
     ]
    }
   ],
   "source": [
    "def rev(s):\n",
    "    return s[::-1]\n",
    "s = input()\n",
    "print(rev(s))"
   ]
  },
  {
   "cell_type": "code",
   "execution_count": 31,
   "metadata": {},
   "outputs": [
    {
     "name": "stdout",
     "output_type": "stream",
     "text": [
      "True\n",
      "False\n",
      "False\n"
     ]
    }
   ],
   "source": [
    "def has_33(nums):\n",
    "    for i in range (len(nums)-1):\n",
    "        if nums[i]==3 and nums[i+1]==3:\n",
    "            print(\"True\")\n",
    "            return \n",
    "    print (\"False\")\n",
    "\n",
    "has_33([1, 3, 3]) \n",
    "has_33([1, 3, 1, 3]) \n",
    "has_33([3, 1, 3])"
   ]
  },
  {
   "cell_type": "code",
   "execution_count": 35,
   "metadata": {},
   "outputs": [
    {
     "name": "stdout",
     "output_type": "stream",
     "text": [
      "True\n",
      "True\n",
      "False\n"
     ]
    }
   ],
   "source": [
    "def spy_game(b):\n",
    "    nums =[]\n",
    "    for i in range (len(b)):\n",
    "        if b[i]==7 or b[i]==0:\n",
    "            nums.append(b[i])\n",
    "    for i in range (len(nums)-2):\n",
    "        if nums[i]==0 and nums[i+1]==0 and nums[i+2]==7:\n",
    "            print(\"True\")\n",
    "            return \n",
    "    print (\"False\")\n",
    "\n",
    "\n",
    "spy_game([1,2,4,0,0,7,5]) \n",
    "spy_game([1,0,2,4,0,5,7]) \n",
    "spy_game([1,7,2,0,4,5,0]) "
   ]
  },
  {
   "cell_type": "code",
   "execution_count": 36,
   "metadata": {},
   "outputs": [
    {
     "name": "stdout",
     "output_type": "stream",
     "text": [
      "523.5833333333333\n"
     ]
    }
   ],
   "source": [
    "def volumes_of_a_sphere(a):\n",
    "    return 4/3*3.1415*a**3\n",
    "a = int(input())\n",
    "print(volumes_of_a_sphere(a))"
   ]
  },
  {
   "cell_type": "code",
   "execution_count": 38,
   "metadata": {},
   "outputs": [
    {
     "name": "stdout",
     "output_type": "stream",
     "text": [
      "[1, 2, 3, 4]\n",
      "[1, 2, 5]\n"
     ]
    }
   ],
   "source": [
    "def MySet(a):\n",
    "    a = sorted(a)\n",
    "    b = []\n",
    "    b.append(a[0])\n",
    "    for i in range (1,len(a)):\n",
    "        if a[i-1]!=a[i]:\n",
    "            b.append(a[i])\n",
    "    return b\n",
    "print(MySet([1, 2, 2, 3, 3, 3, 4]))\n",
    "print(MySet([5, 5, 5, 1, 1, 2, 2]))"
   ]
  },
  {
   "cell_type": "code",
   "execution_count": 40,
   "metadata": {},
   "outputs": [
    {
     "name": "stdout",
     "output_type": "stream",
     "text": [
      "True\n"
     ]
    }
   ],
   "source": [
    "def is_palindrome(a):\n",
    "    b = a[::-1]\n",
    "    return a==b\n",
    "a = input()\n",
    "print(is_palindrome(a))"
   ]
  },
  {
   "cell_type": "code",
   "execution_count": 42,
   "metadata": {},
   "outputs": [
    {
     "name": "stdout",
     "output_type": "stream",
     "text": [
      "****\n",
      "*********\n",
      "*******\n"
     ]
    }
   ],
   "source": [
    "def histogram(a):\n",
    "    for i in range (len(a)):\n",
    "        print(\"*\"*a[i])\n",
    "histogram([4, 9, 7])"
   ]
  },
  {
   "cell_type": "code",
   "execution_count": 47,
   "metadata": {},
   "outputs": [
    {
     "name": "stdout",
     "output_type": "stream",
     "text": [
      "Well, KBTU, I am thinking of a number between 1 and 20.\n",
      "Your guess is too hight.\n",
      "Your guess is too low.\n",
      "Your guess is too low.\n",
      "Your guess is too low.\n",
      "Good job,  KBTU ! You guessed my number in  5  guesses!\n"
     ]
    }
   ],
   "source": [
    "from random import randint\n",
    "def Guess_the_number():\n",
    "    b = randint(1, 20)\n",
    "    a = input(\"Hello! What is your name?\")\n",
    "    print(\"Well, KBTU, I am thinking of a number between 1 and 20.\")\n",
    "    c = int(input(\"Take a guess.\"))\n",
    "    t = 1\n",
    "    while (c!=b):\n",
    "        if c < b:\n",
    "            print(\"Your guess is too low.\")\n",
    "            c = int(input(\"Take a guess.\"))\n",
    "            t+=1\n",
    "        elif c > b:\n",
    "            print(\"Your guess is too hight.\")\n",
    "            c = int(input(\"Take a guess.\"))\n",
    "            t+=1\n",
    "    print(\"Good job, \",a,\"! You guessed my number in \",t,\" guesses!\")\n",
    "Guess_the_number()"
   ]
  }
 ],
 "metadata": {
  "kernelspec": {
   "display_name": "Python 3",
   "language": "python",
   "name": "python3"
  },
  "language_info": {
   "codemirror_mode": {
    "name": "ipython",
    "version": 3
   },
   "file_extension": ".py",
   "mimetype": "text/x-python",
   "name": "python",
   "nbconvert_exporter": "python",
   "pygments_lexer": "ipython3",
   "version": "3.12.9"
  }
 },
 "nbformat": 4,
 "nbformat_minor": 2
}
